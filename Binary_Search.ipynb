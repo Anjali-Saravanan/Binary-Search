{
  "nbformat": 4,
  "nbformat_minor": 0,
  "metadata": {
    "colab": {
      "name": "Binary Search.ipynb",
      "provenance": [],
      "authorship_tag": "ABX9TyOSlnkzxXIH3TzgYCIYI4xZ",
      "include_colab_link": true
    },
    "kernelspec": {
      "name": "python3",
      "display_name": "Python 3"
    },
    "language_info": {
      "name": "python"
    }
  },
  "cells": [
    {
      "cell_type": "markdown",
      "metadata": {
        "id": "view-in-github",
        "colab_type": "text"
      },
      "source": [
        "<a href=\"https://colab.research.google.com/github/Anjali-Saravanan/Binary-Search/blob/main/Binary_Search.ipynb\" target=\"_parent\"><img src=\"https://colab.research.google.com/assets/colab-badge.svg\" alt=\"Open In Colab\"/></a>"
      ]
    },
    {
      "cell_type": "code",
      "execution_count": null,
      "metadata": {
        "id": "lBIXQ-xVOk1z"
      },
      "outputs": [],
      "source": [
        "import random\n",
        "import time\n",
        "\n",
        "\n",
        "def naive_search(l, target):\n",
        "    # example l = [1, 3, 10, 12]\n",
        "    for i in range(len(l)):\n",
        "        if l[i] == target:\n",
        "            return i\n",
        "    return -1\n",
        "\n",
        "\n",
        "# binary search uses divide and conquer!\n",
        "# we will leverage the fact that our list is SORTED\n",
        "def binary_search(l, target, low=None, high=None):\n",
        "    if low is None:\n",
        "        low = 0\n",
        "    if high is None:\n",
        "        high = len(l) - 1\n",
        "\n",
        "    if high < low:\n",
        "        return -1\n",
        "\n",
        "    # example l = [1, 3, 5, 10, 12]  # should return 3\n",
        "    midpoint = (low + high) // 2  # 2\n",
        "\n",
        "    # we'll check if l[midpoint] == target, and if not, we can find out if\n",
        "    # target will be to the left or right of midpoint\n",
        "    # we know everything to the left of midpoint is smaller than the midpoint\n",
        "    # and everything to the right is larger\n",
        "    if l[midpoint] == target:\n",
        "        return midpoint\n",
        "    elif target < l[midpoint]:\n",
        "        return binary_search(l, target, low, midpoint-1)\n",
        "    else:\n",
        "        # target > l[midpoint]\n",
        "        return binary_search(l, target, midpoint+1, high)\n",
        "\n",
        "if __name__=='__main__':\n",
        "    # l = [1, 3, 5, 10, 12]\n",
        "    # target = 7\n",
        "    # print(naive_search(l, target))\n",
        "    # print(binary_search(l, target))\n",
        "\n",
        "    length = 10000\n",
        "    # build a sorted list of length 10000\n",
        "    sorted_list = set()\n",
        "    while len(sorted_list) < length:\n",
        "        sorted_list.add(random.randint(-3*length, 3*length))\n",
        "    sorted_list = sorted(list(sorted_list))\n",
        "\n",
        "    start = time.time()\n",
        "    for target in sorted_list:\n",
        "        naive_search(sorted_list, target)\n",
        "    end = time.time()\n",
        "    print(\"Naive search time: \", (end - start), \"seconds\")\n",
        "\n",
        "    start = time.time()\n",
        "    for target in sorted_list:\n",
        "        binary_search(sorted_list, target)\n",
        "    end = time.time()\n",
        "    print(\"Binary search time: \", (end - start), \"seconds\")"
      ]
    }
  ]
}